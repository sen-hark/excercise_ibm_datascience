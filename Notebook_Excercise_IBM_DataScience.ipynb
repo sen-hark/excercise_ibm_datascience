{
 "cells": [
  {
   "cell_type": "markdown",
   "id": "1961803a",
   "metadata": {},
   "source": [
    "# Excercise IBM Skills Network Data Science"
   ]
  },
  {
   "cell_type": "markdown",
   "id": "4f9760c9",
   "metadata": {},
   "source": [
    "Hey, my name is Yannick and I want to become a data scientist. How are you doing? "
   ]
  },
  {
   "cell_type": "markdown",
   "id": "a09b84cf",
   "metadata": {},
   "source": [
    "- R\n",
    "- Julia\n",
    "- Python\n",
    "- JavaScript\n",
    "- C++\n",
    "- SAS"
   ]
  },
  {
   "cell_type": "markdown",
   "id": "bb6d5946",
   "metadata": {},
   "source": [
    "- Tensorflow\n",
    "- Keras\n",
    "- NLTK\n",
    "- SpaCy\n",
    "- Pandas\n",
    "- SciPy\n",
    "- NumPy"
   ]
  },
  {
   "cell_type": "markdown",
   "id": "7b612045",
   "metadata": {},
   "source": [
    "|Tool |\n",
    "|-----|\n",
    "|Linear Regression|\n",
    "|Logistic Regression|\n",
    "|Support Vector Machines|\n",
    "|Neural Networks|\n",
    "|XGBoost|\n",
    "|Random Forrests|"
   ]
  },
  {
   "cell_type": "markdown",
   "id": "d1871e8d",
   "metadata": {},
   "source": [
    "You can type the following code into Python to perform basic arithmetic operations:\n",
    "```python\n",
    "    x = 2+2\n",
    "    print(x)\n",
    "```    "
   ]
  },
  {
   "cell_type": "code",
   "execution_count": 2,
   "id": "14a2ea71",
   "metadata": {},
   "outputs": [
    {
     "data": {
      "text/plain": [
       "90"
      ]
     },
     "execution_count": 2,
     "metadata": {},
     "output_type": "execute_result"
    }
   ],
   "source": [
    "(2+2+5)*10"
   ]
  },
  {
   "cell_type": "code",
   "execution_count": 3,
   "id": "86bb7c34",
   "metadata": {},
   "outputs": [
    {
     "name": "stdout",
     "output_type": "stream",
     "text": [
      "2.0\n"
     ]
    }
   ],
   "source": [
    "min = 120\n",
    "hours = min/60\n",
    "print(hours)"
   ]
  },
  {
   "cell_type": "markdown",
   "id": "bd666d43",
   "metadata": {},
   "source": [
    "#### Objectives:\n",
    "- Learn Python and Machine Learning\n",
    "- Become a data scientist\n",
    "- Become better at data science\n",
    "- Become chief data scientist"
   ]
  },
  {
   "cell_type": "markdown",
   "id": "bb77f30e",
   "metadata": {},
   "source": [
    "Name: Yannick Harksen"
   ]
  }
 ],
 "metadata": {
  "kernelspec": {
   "display_name": "Python 3 (ipykernel)",
   "language": "python",
   "name": "python3"
  },
  "language_info": {
   "codemirror_mode": {
    "name": "ipython",
    "version": 3
   },
   "file_extension": ".py",
   "mimetype": "text/x-python",
   "name": "python",
   "nbconvert_exporter": "python",
   "pygments_lexer": "ipython3",
   "version": "3.9.7"
  }
 },
 "nbformat": 4,
 "nbformat_minor": 5
}
